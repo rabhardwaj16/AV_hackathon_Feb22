{
 "cells": [
  {
   "cell_type": "markdown",
   "id": "87c74f54",
   "metadata": {},
   "source": [
    "#### Problem Statement\n",
    "\n",
    "ABC is an online content sharing platform that enables users to create, upload and share the content in the form of videos. \n",
    "It includes videos from different genres like entertainment, education, sports, technology and so on. The maximum duration \n",
    "of video is 10 minutes.\n",
    "\n",
    "Users can like, comment and share the videos on the platform. \n",
    "\n",
    "Based on the user’s interaction with the videos, engagement score is assigned to the video with respect to each user. \n",
    "Engagement score defines how engaging the content of the video is. \n",
    "\n",
    "Understanding the engagement score of the video improves the user’s interaction with the platform. It defines the type \n",
    "of content that is appealing to the user and engages the larger audience."
   ]
  },
  {
   "cell_type": "markdown",
   "id": "f720db5d",
   "metadata": {},
   "source": [
    "### 1. Importing Libraries"
   ]
  },
  {
   "cell_type": "code",
   "execution_count": 20,
   "id": "af83b7f0",
   "metadata": {},
   "outputs": [],
   "source": [
    "import pandas as pd\n",
    "import numpy as np\n",
    "\n",
    "# visualizations\n",
    "from matplotlib import pyplot as plt\n",
    "import seaborn as sns\n",
    "\n",
    "# preprocessing\n",
    "from sklearn.model_selection import train_test_split\n",
    "\n",
    "from sklearn.linear_model import LinearRegression\n",
    "from sklearn.ensemble import RandomForestRegressor\n",
    "from xgboost import XGBRegressor\n",
    "\n",
    "from sklearn  import metrics\n",
    "\n",
    "import warnings\n",
    "warnings.filterwarnings('always')\n",
    "warnings.filterwarnings('ignore')"
   ]
  },
  {
   "cell_type": "markdown",
   "id": "0ec8e926",
   "metadata": {},
   "source": [
    "\n",
    "### 2. Data Inspection"
   ]
  },
  {
   "cell_type": "code",
   "execution_count": 21,
   "id": "c02f0f10",
   "metadata": {},
   "outputs": [
    {
     "data": {
      "text/plain": [
       "((89197, 9), (11121, 8))"
      ]
     },
     "execution_count": 21,
     "metadata": {},
     "output_type": "execute_result"
    }
   ],
   "source": [
    "org_train = pd.read_csv('train_0OECtn8.csv')\n",
    "org_test = pd.read_csv('test_1zqHu22.csv')\n",
    "\n",
    "train = org_train.drop('row_id', axis = 1)\n",
    "test = org_test.drop('row_id', axis = 1)\n",
    "\n",
    "train.shape, test.shape"
   ]
  },
  {
   "cell_type": "code",
   "execution_count": 22,
   "id": "aed04b36",
   "metadata": {},
   "outputs": [
    {
     "data": {
      "text/plain": [
       "89197"
      ]
     },
     "execution_count": 22,
     "metadata": {},
     "output_type": "execute_result"
    }
   ],
   "source": [
    "org_train['row_id'].nunique()"
   ]
  },
  {
   "cell_type": "code",
   "execution_count": 98,
   "id": "130782bd",
   "metadata": {},
   "outputs": [
    {
     "data": {
      "text/plain": [
       "0.0"
      ]
     },
     "execution_count": 98,
     "metadata": {},
     "output_type": "execute_result"
    }
   ],
   "source": [
    "train['engagement_score'].min()"
   ]
  },
  {
   "cell_type": "code",
   "execution_count": 23,
   "id": "5a0b1fa6",
   "metadata": {
    "scrolled": false
   },
   "outputs": [
    {
     "name": "stdout",
     "output_type": "stream",
     "text": [
      "<class 'pandas.core.frame.DataFrame'>\n",
      "RangeIndex: 89197 entries, 0 to 89196\n",
      "Data columns (total 9 columns):\n",
      " #   Column            Non-Null Count  Dtype  \n",
      "---  ------            --------------  -----  \n",
      " 0   user_id           89197 non-null  int64  \n",
      " 1   category_id       89197 non-null  int64  \n",
      " 2   video_id          89197 non-null  int64  \n",
      " 3   age               89197 non-null  int64  \n",
      " 4   gender            89197 non-null  object \n",
      " 5   profession        89197 non-null  object \n",
      " 6   followers         89197 non-null  int64  \n",
      " 7   views             89197 non-null  int64  \n",
      " 8   engagement_score  89197 non-null  float64\n",
      "dtypes: float64(1), int64(6), object(2)\n",
      "memory usage: 6.1+ MB\n"
     ]
    }
   ],
   "source": [
    "train.info()"
   ]
  },
  {
   "cell_type": "markdown",
   "id": "68d56f1c",
   "metadata": {},
   "source": [
    "* __there are no missing values in train data.__"
   ]
  },
  {
   "cell_type": "code",
   "execution_count": 24,
   "id": "8432bdd9",
   "metadata": {
    "scrolled": true
   },
   "outputs": [
    {
     "name": "stdout",
     "output_type": "stream",
     "text": [
      "<class 'pandas.core.frame.DataFrame'>\n",
      "RangeIndex: 11121 entries, 0 to 11120\n",
      "Data columns (total 8 columns):\n",
      " #   Column       Non-Null Count  Dtype \n",
      "---  ------       --------------  ----- \n",
      " 0   user_id      11121 non-null  int64 \n",
      " 1   category_id  11121 non-null  int64 \n",
      " 2   video_id     11121 non-null  int64 \n",
      " 3   age          11121 non-null  int64 \n",
      " 4   gender       11121 non-null  object\n",
      " 5   profession   11121 non-null  object\n",
      " 6   followers    11121 non-null  int64 \n",
      " 7   views        11121 non-null  int64 \n",
      "dtypes: int64(6), object(2)\n",
      "memory usage: 695.2+ KB\n"
     ]
    }
   ],
   "source": [
    "test.info()"
   ]
  },
  {
   "cell_type": "markdown",
   "id": "d2e0eae6",
   "metadata": {},
   "source": [
    "* __there are no missing values in test data.__"
   ]
  },
  {
   "cell_type": "code",
   "execution_count": 25,
   "id": "939c4869",
   "metadata": {},
   "outputs": [
    {
     "name": "stdout",
     "output_type": "stream",
     "text": [
      "Numerical Features count in Train Set: 7\n",
      "Categorical Features count in Train Set: 2\n"
     ]
    }
   ],
   "source": [
    "#numerical features\n",
    "print(\"Numerical Features count in Train Set:\",train.select_dtypes(exclude = 'object').shape[1])\n",
    "\n",
    "#categorical features\n",
    "print(\"Categorical Features count in Train Set:\",train.select_dtypes('object').shape[1])"
   ]
  },
  {
   "cell_type": "code",
   "execution_count": 26,
   "id": "13481d79",
   "metadata": {},
   "outputs": [
    {
     "name": "stdout",
     "output_type": "stream",
     "text": [
      "Numerical Features count in Train Set: 6\n",
      "Categorical Features count in Train Set: 2\n"
     ]
    }
   ],
   "source": [
    "#numerical features\n",
    "print(\"Numerical Features count in Train Set:\",test.select_dtypes(exclude = 'object').shape[1])\n",
    "\n",
    "#categorical features\n",
    "print(\"Categorical Features count in Train Set:\",test.select_dtypes('object').shape[1])"
   ]
  },
  {
   "cell_type": "markdown",
   "id": "b7ef35b9",
   "metadata": {},
   "source": [
    "### 3. Explanatory Data Analysis"
   ]
  },
  {
   "cell_type": "code",
   "execution_count": 27,
   "id": "5d768678",
   "metadata": {},
   "outputs": [
    {
     "name": "stdout",
     "output_type": "stream",
     "text": [
      "Categorical Features: ['gender', 'profession']\n",
      "****************************************************************************************************\n",
      "Categorical Features: ['user_id', 'category_id', 'video_id', 'age', 'followers', 'views', 'engagement_score']\n"
     ]
    }
   ],
   "source": [
    "print('Categorical Features:', train.select_dtypes('object').columns.to_list())\n",
    "print('*' * 100)\n",
    "print('Categorical Features:', train.select_dtypes(exclude = 'object').columns.to_list())"
   ]
  },
  {
   "cell_type": "code",
   "execution_count": 28,
   "id": "e23dc569",
   "metadata": {},
   "outputs": [
    {
     "data": {
      "text/html": [
       "<div>\n",
       "<style scoped>\n",
       "    .dataframe tbody tr th:only-of-type {\n",
       "        vertical-align: middle;\n",
       "    }\n",
       "\n",
       "    .dataframe tbody tr th {\n",
       "        vertical-align: top;\n",
       "    }\n",
       "\n",
       "    .dataframe thead th {\n",
       "        text-align: right;\n",
       "    }\n",
       "</style>\n",
       "<table border=\"1\" class=\"dataframe\">\n",
       "  <thead>\n",
       "    <tr style=\"text-align: right;\">\n",
       "      <th></th>\n",
       "      <th>user_id</th>\n",
       "      <th>category_id</th>\n",
       "      <th>video_id</th>\n",
       "      <th>age</th>\n",
       "      <th>gender</th>\n",
       "      <th>profession</th>\n",
       "      <th>followers</th>\n",
       "      <th>views</th>\n",
       "      <th>engagement_score</th>\n",
       "    </tr>\n",
       "  </thead>\n",
       "  <tbody>\n",
       "    <tr>\n",
       "      <th>0</th>\n",
       "      <td>19990</td>\n",
       "      <td>37</td>\n",
       "      <td>128</td>\n",
       "      <td>24</td>\n",
       "      <td>Male</td>\n",
       "      <td>Student</td>\n",
       "      <td>180</td>\n",
       "      <td>1000</td>\n",
       "      <td>4.33</td>\n",
       "    </tr>\n",
       "    <tr>\n",
       "      <th>1</th>\n",
       "      <td>5304</td>\n",
       "      <td>32</td>\n",
       "      <td>132</td>\n",
       "      <td>14</td>\n",
       "      <td>Female</td>\n",
       "      <td>Student</td>\n",
       "      <td>330</td>\n",
       "      <td>714</td>\n",
       "      <td>1.79</td>\n",
       "    </tr>\n",
       "    <tr>\n",
       "      <th>2</th>\n",
       "      <td>1840</td>\n",
       "      <td>12</td>\n",
       "      <td>24</td>\n",
       "      <td>19</td>\n",
       "      <td>Male</td>\n",
       "      <td>Student</td>\n",
       "      <td>180</td>\n",
       "      <td>138</td>\n",
       "      <td>4.35</td>\n",
       "    </tr>\n",
       "    <tr>\n",
       "      <th>3</th>\n",
       "      <td>12597</td>\n",
       "      <td>23</td>\n",
       "      <td>112</td>\n",
       "      <td>19</td>\n",
       "      <td>Male</td>\n",
       "      <td>Student</td>\n",
       "      <td>220</td>\n",
       "      <td>613</td>\n",
       "      <td>3.77</td>\n",
       "    </tr>\n",
       "    <tr>\n",
       "      <th>4</th>\n",
       "      <td>13626</td>\n",
       "      <td>23</td>\n",
       "      <td>112</td>\n",
       "      <td>27</td>\n",
       "      <td>Male</td>\n",
       "      <td>Working Professional</td>\n",
       "      <td>220</td>\n",
       "      <td>613</td>\n",
       "      <td>3.13</td>\n",
       "    </tr>\n",
       "  </tbody>\n",
       "</table>\n",
       "</div>"
      ],
      "text/plain": [
       "   user_id  category_id  video_id  age  gender            profession  \\\n",
       "0    19990           37       128   24    Male               Student   \n",
       "1     5304           32       132   14  Female               Student   \n",
       "2     1840           12        24   19    Male               Student   \n",
       "3    12597           23       112   19    Male               Student   \n",
       "4    13626           23       112   27    Male  Working Professional   \n",
       "\n",
       "   followers  views  engagement_score  \n",
       "0        180   1000              4.33  \n",
       "1        330    714              1.79  \n",
       "2        180    138              4.35  \n",
       "3        220    613              3.77  \n",
       "4        220    613              3.13  "
      ]
     },
     "execution_count": 28,
     "metadata": {},
     "output_type": "execute_result"
    }
   ],
   "source": [
    "train.head()"
   ]
  },
  {
   "cell_type": "code",
   "execution_count": 29,
   "id": "5d440f3f",
   "metadata": {
    "scrolled": false
   },
   "outputs": [
    {
     "data": {
      "text/plain": [
       "<AxesSubplot:xlabel='gender', ylabel='count'>"
      ]
     },
     "execution_count": 29,
     "metadata": {},
     "output_type": "execute_result"
    },
    {
     "data": {
      "image/png": "[encoded data removed]",
      "text/plain": [
       "<Figure size 432x288 with 1 Axes>"
      ]
     },
     "metadata": {
      "needs_background": "light"
     },
     "output_type": "display_data"
    }
   ],
   "source": [
    "sns.countplot('gender', data=train, palette='summer')"
   ]
  },
  {
   "cell_type": "code",
   "execution_count": 30,
   "id": "af60f4e5",
   "metadata": {},
   "outputs": [
    {
     "data": {
      "text/plain": [
       "<AxesSubplot:xlabel='profession', ylabel='count'>"
      ]
     },
     "execution_count": 30,
     "metadata": {},
     "output_type": "execute_result"
    },
    {
     "data": {
      "image/png": "[encoded data removed]",
      "text/plain": [
       "<Figure size 432x288 with 1 Axes>"
      ]
     },
     "metadata": {
      "needs_background": "light"
     },
     "output_type": "display_data"
    }
   ],
   "source": [
    "sns.countplot('profession', data=train, palette='mako')"
   ]
  },
  {
   "cell_type": "code",
   "execution_count": 31,
   "id": "b2cd7ece",
   "metadata": {
    "scrolled": false
   },
   "outputs": [
    {
     "data": {
      "text/plain": [
       "<AxesSubplot:xlabel='category_id', ylabel='count'>"
      ]
     },
     "execution_count": 31,
     "metadata": {},
     "output_type": "execute_result"
    },
    {
     "data": {
      "image/png": "[encoded data removed]",
      "text/plain": [
       "<Figure size 1200x500 with 1 Axes>"
      ]
     },
     "metadata": {
      "needs_background": "light"
     },
     "output_type": "display_data"
    }
   ],
   "source": [
    "plt.figure(figsize=(12,5),dpi = 100)\n",
    "sns.countplot('category_id', data = train, order = train['category_id'].value_counts().index , palette='spring')"
   ]
  },
  {
   "cell_type": "markdown",
   "id": "48f58acc",
   "metadata": {},
   "source": [
    "category_id 5 has the most records"
   ]
  },
  {
   "cell_type": "code",
   "execution_count": 32,
   "id": "0d300f33",
   "metadata": {},
   "outputs": [
    {
     "data": {
      "text/plain": [
       "<AxesSubplot:xlabel='video_id', ylabel='count'>"
      ]
     },
     "execution_count": 32,
     "metadata": {},
     "output_type": "execute_result"
    },
    {
     "data": {
      "image/png": "[encoded data removed]",
      "text/plain": [
       "<Figure size 12000x5000 with 1 Axes>"
      ]
     },
     "metadata": {
      "needs_background": "light"
     },
     "output_type": "display_data"
    }
   ],
   "source": [
    "plt.figure(figsize=(120,50),dpi = 100)\n",
    "sns.countplot('video_id', data = train, order = train['video_id'].value_counts().index , palette='ocean')"
   ]
  },
  {
   "cell_type": "markdown",
   "id": "c588a5e2",
   "metadata": {},
   "source": [
    "video_id 112 has the most records in tha dataset"
   ]
  },
  {
   "cell_type": "code",
   "execution_count": 33,
   "id": "f8b043ed",
   "metadata": {
    "scrolled": true
   },
   "outputs": [
    {
     "data": {
      "text/plain": [
       "<AxesSubplot:xlabel='age'>"
      ]
     },
     "execution_count": 33,
     "metadata": {},
     "output_type": "execute_result"
    },
    {
     "data": {
      "image/png": "[encoded data removed]",
      "text/plain": [
       "<Figure size 432x288 with 1 Axes>"
      ]
     },
     "metadata": {
      "needs_background": "light"
     },
     "output_type": "display_data"
    }
   ],
   "source": [
    "sns.boxplot('age', data = train)"
   ]
  },
  {
   "cell_type": "markdown",
   "id": "edc71aa7",
   "metadata": {},
   "source": [
    "* visible outliers in age feature"
   ]
  },
  {
   "cell_type": "code",
   "execution_count": 34,
   "id": "78d58bc7",
   "metadata": {},
   "outputs": [
    {
     "data": {
      "text/plain": [
       "<AxesSubplot:xlabel='followers'>"
      ]
     },
     "execution_count": 34,
     "metadata": {},
     "output_type": "execute_result"
    },
    {
     "data": {
      "image/png": "[encoded data removed]",
      "text/plain": [
       "<Figure size 432x288 with 1 Axes>"
      ]
     },
     "metadata": {
      "needs_background": "light"
     },
     "output_type": "display_data"
    }
   ],
   "source": [
    "sns.boxplot('followers', data = train)"
   ]
  },
  {
   "cell_type": "markdown",
   "id": "42e2669e",
   "metadata": {},
   "source": [
    "* minor outliers in followers feature"
   ]
  },
  {
   "cell_type": "code",
   "execution_count": 35,
   "id": "543d52cf",
   "metadata": {
    "scrolled": true
   },
   "outputs": [
    {
     "data": {
      "text/plain": [
       "<AxesSubplot:xlabel='views'>"
      ]
     },
     "execution_count": 35,
     "metadata": {},
     "output_type": "execute_result"
    },
    {
     "data": {
      "image/png": "[encoded data removed]",
      "text/plain": [
       "<Figure size 432x288 with 1 Axes>"
      ]
     },
     "metadata": {
      "needs_background": "light"
     },
     "output_type": "display_data"
    }
   ],
   "source": [
    "sns.boxplot('views', data = train)"
   ]
  },
  {
   "cell_type": "markdown",
   "id": "aafafb04",
   "metadata": {},
   "source": [
    "# ********************************************************************************************"
   ]
  },
  {
   "cell_type": "code",
   "execution_count": 36,
   "id": "d6026cba",
   "metadata": {
    "scrolled": false
   },
   "outputs": [
    {
     "data": {
      "text/html": [
       "<div>\n",
       "<style scoped>\n",
       "    .dataframe tbody tr th:only-of-type {\n",
       "        vertical-align: middle;\n",
       "    }\n",
       "\n",
       "    .dataframe tbody tr th {\n",
       "        vertical-align: top;\n",
       "    }\n",
       "\n",
       "    .dataframe thead th {\n",
       "        text-align: right;\n",
       "    }\n",
       "</style>\n",
       "<table border=\"1\" class=\"dataframe\">\n",
       "  <thead>\n",
       "    <tr style=\"text-align: right;\">\n",
       "      <th></th>\n",
       "      <th>user_id</th>\n",
       "      <th>category_id</th>\n",
       "      <th>video_id</th>\n",
       "      <th>age</th>\n",
       "      <th>gender</th>\n",
       "      <th>profession</th>\n",
       "      <th>followers</th>\n",
       "      <th>views</th>\n",
       "      <th>engagement_score</th>\n",
       "    </tr>\n",
       "  </thead>\n",
       "  <tbody>\n",
       "    <tr>\n",
       "      <th>0</th>\n",
       "      <td>19990</td>\n",
       "      <td>37</td>\n",
       "      <td>128</td>\n",
       "      <td>24</td>\n",
       "      <td>Male</td>\n",
       "      <td>Student</td>\n",
       "      <td>180</td>\n",
       "      <td>1000</td>\n",
       "      <td>4.33</td>\n",
       "    </tr>\n",
       "    <tr>\n",
       "      <th>1</th>\n",
       "      <td>5304</td>\n",
       "      <td>32</td>\n",
       "      <td>132</td>\n",
       "      <td>14</td>\n",
       "      <td>Female</td>\n",
       "      <td>Student</td>\n",
       "      <td>330</td>\n",
       "      <td>714</td>\n",
       "      <td>1.79</td>\n",
       "    </tr>\n",
       "    <tr>\n",
       "      <th>2</th>\n",
       "      <td>1840</td>\n",
       "      <td>12</td>\n",
       "      <td>24</td>\n",
       "      <td>19</td>\n",
       "      <td>Male</td>\n",
       "      <td>Student</td>\n",
       "      <td>180</td>\n",
       "      <td>138</td>\n",
       "      <td>4.35</td>\n",
       "    </tr>\n",
       "    <tr>\n",
       "      <th>3</th>\n",
       "      <td>12597</td>\n",
       "      <td>23</td>\n",
       "      <td>112</td>\n",
       "      <td>19</td>\n",
       "      <td>Male</td>\n",
       "      <td>Student</td>\n",
       "      <td>220</td>\n",
       "      <td>613</td>\n",
       "      <td>3.77</td>\n",
       "    </tr>\n",
       "    <tr>\n",
       "      <th>4</th>\n",
       "      <td>13626</td>\n",
       "      <td>23</td>\n",
       "      <td>112</td>\n",
       "      <td>27</td>\n",
       "      <td>Male</td>\n",
       "      <td>Working Professional</td>\n",
       "      <td>220</td>\n",
       "      <td>613</td>\n",
       "      <td>3.13</td>\n",
       "    </tr>\n",
       "  </tbody>\n",
       "</table>\n",
       "</div>"
      ],
      "text/plain": [
       "   user_id  category_id  video_id  age  gender            profession  \\\n",
       "0    19990           37       128   24    Male               Student   \n",
       "1     5304           32       132   14  Female               Student   \n",
       "2     1840           12        24   19    Male               Student   \n",
       "3    12597           23       112   19    Male               Student   \n",
       "4    13626           23       112   27    Male  Working Professional   \n",
       "\n",
       "   followers  views  engagement_score  \n",
       "0        180   1000              4.33  \n",
       "1        330    714              1.79  \n",
       "2        180    138              4.35  \n",
       "3        220    613              3.77  \n",
       "4        220    613              3.13  "
      ]
     },
     "execution_count": 36,
     "metadata": {},
     "output_type": "execute_result"
    }
   ],
   "source": [
    "train[['user_id', 'category_id', 'video_id', 'age']]  = train[['user_id', 'category_id', 'video_id', 'age']].astype('int')\n",
    "train.head()"
   ]
  },
  {
   "cell_type": "markdown",
   "id": "aa8f3b73",
   "metadata": {},
   "source": [
    "I have taken below steps to create features by feature engineering:\n",
    "\n",
    "1:\n",
    "    * Filtering the data to interquantile range.\n",
    "    * having dummies from `professional` feature\n",
    "    * converting `gender` to lencode format\n",
    "\n",
    "2:\n",
    "    * having dummies from `professional` feature\n",
    "    * converting `gender` to lencode format\n",
    "\n",
    "3:\n",
    "    * merging `gender` and `profession` features and using mean encode\n",
    "\n",
    "4:\n",
    "    * merging `gender` and `profession` features and getting their dummies as feature\n",
    "    \n",
    "    \n",
    "5:\n",
    "    * gettting dummies of `category_id` and `video_id`\n",
    "    * using mean encode on `user_id`\n",
    "    "
   ]
  },
  {
   "cell_type": "markdown",
   "id": "da4f2c4b",
   "metadata": {},
   "source": [
    "# **** t0"
   ]
  },
  {
   "cell_type": "code",
   "execution_count": 37,
   "id": "cad83bb5",
   "metadata": {},
   "outputs": [
    {
     "data": {
      "text/plain": [
       "(10, 68)"
      ]
     },
     "execution_count": 37,
     "metadata": {},
     "output_type": "execute_result"
    }
   ],
   "source": [
    "train['age'].min(), train['age'].max()"
   ]
  },
  {
   "cell_type": "code",
   "execution_count": 38,
   "id": "c05d1523",
   "metadata": {},
   "outputs": [
    {
     "data": {
      "text/plain": [
       "Student                 44638\n",
       "Other                   26840\n",
       "Working Professional    17719\n",
       "Name: profession, dtype: int64"
      ]
     },
     "execution_count": 38,
     "metadata": {},
     "output_type": "execute_result"
    }
   ],
   "source": [
    "train['profession'].value_counts()"
   ]
  },
  {
   "cell_type": "code",
   "execution_count": 39,
   "id": "379758b8",
   "metadata": {},
   "outputs": [
    {
     "data": {
      "text/plain": [
       "(1    44638\n",
       " 0    44559\n",
       " Name: Profession_Student, dtype: int64,\n",
       " 0    62357\n",
       " 1    26840\n",
       " Name: Profession_Others, dtype: int64)"
      ]
     },
     "execution_count": 39,
     "metadata": {},
     "output_type": "execute_result"
    }
   ],
   "source": [
    "prof_encod = pd.get_dummies(train['profession'])\n",
    "prof_encod.drop('Working Professional', axis = 1, inplace= True)\n",
    "prof_encod.rename(columns = {'Student':'Profession_Student', 'Other':'Profession_Others'}, inplace=True)\n",
    "prof_encod['Profession_Student'].value_counts(), prof_encod['Profession_Others'].value_counts() "
   ]
  },
  {
   "cell_type": "code",
   "execution_count": 40,
   "id": "de7133a1",
   "metadata": {},
   "outputs": [],
   "source": [
    "t0 = pd.concat([train, prof_encod], axis = 1)"
   ]
  },
  {
   "cell_type": "code",
   "execution_count": 41,
   "id": "9756fc35",
   "metadata": {},
   "outputs": [],
   "source": [
    "t0.drop('profession', axis = 1, inplace = True)"
   ]
  },
  {
   "cell_type": "code",
   "execution_count": 42,
   "id": "896799e2",
   "metadata": {},
   "outputs": [],
   "source": [
    "t0['gender'] = t0['gender'].map({'Male': 1, 'Female' : 0})"
   ]
  },
  {
   "cell_type": "code",
   "execution_count": null,
   "id": "b676a0ff",
   "metadata": {},
   "outputs": [],
   "source": []
  },
  {
   "cell_type": "code",
   "execution_count": null,
   "id": "b5ca9552",
   "metadata": {},
   "outputs": [],
   "source": []
  },
  {
   "cell_type": "code",
   "execution_count": 43,
   "id": "d7bd82d0",
   "metadata": {},
   "outputs": [
    {
     "data": {
      "text/plain": [
       "user_id               13874.00\n",
       "category_id              18.00\n",
       "video_id                 86.00\n",
       "age                      14.00\n",
       "gender                    1.00\n",
       "followers                50.00\n",
       "views                   485.00\n",
       "engagement_score          1.25\n",
       "Profession_Others         1.00\n",
       "Profession_Student        1.00\n",
       "dtype: float64"
      ]
     },
     "execution_count": 43,
     "metadata": {},
     "output_type": "execute_result"
    }
   ],
   "source": [
    "q1 = t0.quantile(0.25)\n",
    "q3 = t0.quantile(0.75)\n",
    "IQR = q3 - q1\n",
    "IQR"
   ]
  },
  {
   "cell_type": "code",
   "execution_count": 45,
   "id": "0f1e46a5",
   "metadata": {},
   "outputs": [
    {
     "data": {
      "text/plain": [
       "(86370, 10)"
      ]
     },
     "execution_count": 45,
     "metadata": {},
     "output_type": "execute_result"
    }
   ],
   "source": [
    "t0 = t0[~((t0 < (q1 - 1.5 * IQR)) |(t0 > (q3 + 1.5 * IQR))).any(axis=1)]\n",
    "t0.shape"
   ]
  },
  {
   "cell_type": "code",
   "execution_count": 47,
   "id": "3c64125f",
   "metadata": {},
   "outputs": [],
   "source": [
    "t0.corr().to_csv('t0corr.csv')"
   ]
  },
  {
   "cell_type": "code",
   "execution_count": 48,
   "id": "58e1fc71",
   "metadata": {},
   "outputs": [],
   "source": [
    "ct0 = t0.drop(['Profession_Student'], axis = 1)"
   ]
  },
  {
   "cell_type": "code",
   "execution_count": 49,
   "id": "ad1063a2",
   "metadata": {},
   "outputs": [
    {
     "data": {
      "text/html": [
       "<div>\n",
       "<style scoped>\n",
       "    .dataframe tbody tr th:only-of-type {\n",
       "        vertical-align: middle;\n",
       "    }\n",
       "\n",
       "    .dataframe tbody tr th {\n",
       "        vertical-align: top;\n",
       "    }\n",
       "\n",
       "    .dataframe thead th {\n",
       "        text-align: right;\n",
       "    }\n",
       "</style>\n",
       "<table border=\"1\" class=\"dataframe\">\n",
       "  <thead>\n",
       "    <tr style=\"text-align: right;\">\n",
       "      <th></th>\n",
       "      <th>user_id</th>\n",
       "      <th>category_id</th>\n",
       "      <th>video_id</th>\n",
       "      <th>age</th>\n",
       "      <th>gender</th>\n",
       "      <th>followers</th>\n",
       "      <th>views</th>\n",
       "      <th>engagement_score</th>\n",
       "      <th>Profession_Others</th>\n",
       "      <th>Profession_Student</th>\n",
       "    </tr>\n",
       "  </thead>\n",
       "  <tbody>\n",
       "    <tr>\n",
       "      <th>0</th>\n",
       "      <td>19990</td>\n",
       "      <td>37</td>\n",
       "      <td>128</td>\n",
       "      <td>24</td>\n",
       "      <td>1</td>\n",
       "      <td>180</td>\n",
       "      <td>1000</td>\n",
       "      <td>4.33</td>\n",
       "      <td>0</td>\n",
       "      <td>1</td>\n",
       "    </tr>\n",
       "    <tr>\n",
       "      <th>1</th>\n",
       "      <td>5304</td>\n",
       "      <td>32</td>\n",
       "      <td>132</td>\n",
       "      <td>14</td>\n",
       "      <td>0</td>\n",
       "      <td>330</td>\n",
       "      <td>714</td>\n",
       "      <td>1.79</td>\n",
       "      <td>0</td>\n",
       "      <td>1</td>\n",
       "    </tr>\n",
       "    <tr>\n",
       "      <th>2</th>\n",
       "      <td>1840</td>\n",
       "      <td>12</td>\n",
       "      <td>24</td>\n",
       "      <td>19</td>\n",
       "      <td>1</td>\n",
       "      <td>180</td>\n",
       "      <td>138</td>\n",
       "      <td>4.35</td>\n",
       "      <td>0</td>\n",
       "      <td>1</td>\n",
       "    </tr>\n",
       "    <tr>\n",
       "      <th>3</th>\n",
       "      <td>12597</td>\n",
       "      <td>23</td>\n",
       "      <td>112</td>\n",
       "      <td>19</td>\n",
       "      <td>1</td>\n",
       "      <td>220</td>\n",
       "      <td>613</td>\n",
       "      <td>3.77</td>\n",
       "      <td>0</td>\n",
       "      <td>1</td>\n",
       "    </tr>\n",
       "    <tr>\n",
       "      <th>4</th>\n",
       "      <td>13626</td>\n",
       "      <td>23</td>\n",
       "      <td>112</td>\n",
       "      <td>27</td>\n",
       "      <td>1</td>\n",
       "      <td>220</td>\n",
       "      <td>613</td>\n",
       "      <td>3.13</td>\n",
       "      <td>0</td>\n",
       "      <td>0</td>\n",
       "    </tr>\n",
       "  </tbody>\n",
       "</table>\n",
       "</div>"
      ],
      "text/plain": [
       "   user_id  category_id  video_id  age  gender  followers  views  \\\n",
       "0    19990           37       128   24       1        180   1000   \n",
       "1     5304           32       132   14       0        330    714   \n",
       "2     1840           12        24   19       1        180    138   \n",
       "3    12597           23       112   19       1        220    613   \n",
       "4    13626           23       112   27       1        220    613   \n",
       "\n",
       "   engagement_score  Profession_Others  Profession_Student  \n",
       "0              4.33                  0                   1  \n",
       "1              1.79                  0                   1  \n",
       "2              4.35                  0                   1  \n",
       "3              3.77                  0                   1  \n",
       "4              3.13                  0                   0  "
      ]
     },
     "execution_count": 49,
     "metadata": {},
     "output_type": "execute_result"
    }
   ],
   "source": [
    "t0.head()"
   ]
  },
  {
   "cell_type": "code",
   "execution_count": null,
   "id": "919f6590",
   "metadata": {},
   "outputs": [],
   "source": []
  },
  {
   "cell_type": "markdown",
   "id": "71b8d6d8",
   "metadata": {},
   "source": [
    "# **** t0\n",
    "\n",
    "\n",
    "* __having dummies from `professional` feature__\n",
    "* __converting `gender` to lencode format__\n",
    "* __getting the data from interquantile range__"
   ]
  },
  {
   "cell_type": "markdown",
   "id": "9dc5305c",
   "metadata": {},
   "source": [
    "# **** t1"
   ]
  },
  {
   "cell_type": "code",
   "execution_count": 50,
   "id": "8f57b01c",
   "metadata": {},
   "outputs": [],
   "source": [
    "t0_1 = pd.concat([train, prof_encod], axis = 1)"
   ]
  },
  {
   "cell_type": "code",
   "execution_count": 51,
   "id": "ed05e8a4",
   "metadata": {},
   "outputs": [],
   "source": [
    "t0_1.drop('profession', axis = 1, inplace = True)"
   ]
  },
  {
   "cell_type": "code",
   "execution_count": 52,
   "id": "ec1b14f7",
   "metadata": {},
   "outputs": [],
   "source": [
    "t0_1['gender'] = t0_1['gender'].map({'Male':1, 'Female': 0})"
   ]
  },
  {
   "cell_type": "code",
   "execution_count": 53,
   "id": "bdf09af1",
   "metadata": {},
   "outputs": [
    {
     "data": {
      "text/plain": [
       "user_id                 int32\n",
       "category_id             int32\n",
       "video_id                int32\n",
       "age                     int32\n",
       "gender                  int64\n",
       "followers               int64\n",
       "views                   int64\n",
       "engagement_score      float64\n",
       "Profession_Others       uint8\n",
       "Profession_Student      uint8\n",
       "dtype: object"
      ]
     },
     "execution_count": 53,
     "metadata": {},
     "output_type": "execute_result"
    }
   ],
   "source": [
    "t0_1.dtypes\n"
   ]
  },
  {
   "cell_type": "code",
   "execution_count": 54,
   "id": "ed2422bc",
   "metadata": {},
   "outputs": [
    {
     "data": {
      "text/html": [
       "<div>\n",
       "<style scoped>\n",
       "    .dataframe tbody tr th:only-of-type {\n",
       "        vertical-align: middle;\n",
       "    }\n",
       "\n",
       "    .dataframe tbody tr th {\n",
       "        vertical-align: top;\n",
       "    }\n",
       "\n",
       "    .dataframe thead th {\n",
       "        text-align: right;\n",
       "    }\n",
       "</style>\n",
       "<table border=\"1\" class=\"dataframe\">\n",
       "  <thead>\n",
       "    <tr style=\"text-align: right;\">\n",
       "      <th></th>\n",
       "      <th>user_id</th>\n",
       "      <th>category_id</th>\n",
       "      <th>video_id</th>\n",
       "      <th>age</th>\n",
       "      <th>gender</th>\n",
       "      <th>followers</th>\n",
       "      <th>views</th>\n",
       "      <th>engagement_score</th>\n",
       "      <th>Profession_Others</th>\n",
       "      <th>Profession_Student</th>\n",
       "    </tr>\n",
       "  </thead>\n",
       "  <tbody>\n",
       "    <tr>\n",
       "      <th>0</th>\n",
       "      <td>19990</td>\n",
       "      <td>37</td>\n",
       "      <td>128</td>\n",
       "      <td>24</td>\n",
       "      <td>1</td>\n",
       "      <td>180</td>\n",
       "      <td>1000</td>\n",
       "      <td>4.33</td>\n",
       "      <td>0</td>\n",
       "      <td>1</td>\n",
       "    </tr>\n",
       "    <tr>\n",
       "      <th>1</th>\n",
       "      <td>5304</td>\n",
       "      <td>32</td>\n",
       "      <td>132</td>\n",
       "      <td>14</td>\n",
       "      <td>0</td>\n",
       "      <td>330</td>\n",
       "      <td>714</td>\n",
       "      <td>1.79</td>\n",
       "      <td>0</td>\n",
       "      <td>1</td>\n",
       "    </tr>\n",
       "    <tr>\n",
       "      <th>2</th>\n",
       "      <td>1840</td>\n",
       "      <td>12</td>\n",
       "      <td>24</td>\n",
       "      <td>19</td>\n",
       "      <td>1</td>\n",
       "      <td>180</td>\n",
       "      <td>138</td>\n",
       "      <td>4.35</td>\n",
       "      <td>0</td>\n",
       "      <td>1</td>\n",
       "    </tr>\n",
       "    <tr>\n",
       "      <th>3</th>\n",
       "      <td>12597</td>\n",
       "      <td>23</td>\n",
       "      <td>112</td>\n",
       "      <td>19</td>\n",
       "      <td>1</td>\n",
       "      <td>220</td>\n",
       "      <td>613</td>\n",
       "      <td>3.77</td>\n",
       "      <td>0</td>\n",
       "      <td>1</td>\n",
       "    </tr>\n",
       "    <tr>\n",
       "      <th>4</th>\n",
       "      <td>13626</td>\n",
       "      <td>23</td>\n",
       "      <td>112</td>\n",
       "      <td>27</td>\n",
       "      <td>1</td>\n",
       "      <td>220</td>\n",
       "      <td>613</td>\n",
       "      <td>3.13</td>\n",
       "      <td>0</td>\n",
       "      <td>0</td>\n",
       "    </tr>\n",
       "  </tbody>\n",
       "</table>\n",
       "</div>"
      ],
      "text/plain": [
       "   user_id  category_id  video_id  age  gender  followers  views  \\\n",
       "0    19990           37       128   24       1        180   1000   \n",
       "1     5304           32       132   14       0        330    714   \n",
       "2     1840           12        24   19       1        180    138   \n",
       "3    12597           23       112   19       1        220    613   \n",
       "4    13626           23       112   27       1        220    613   \n",
       "\n",
       "   engagement_score  Profession_Others  Profession_Student  \n",
       "0              4.33                  0                   1  \n",
       "1              1.79                  0                   1  \n",
       "2              4.35                  0                   1  \n",
       "3              3.77                  0                   1  \n",
       "4              3.13                  0                   0  "
      ]
     },
     "execution_count": 54,
     "metadata": {},
     "output_type": "execute_result"
    }
   ],
   "source": [
    "t0_1.head()"
   ]
  },
  {
   "cell_type": "code",
   "execution_count": 55,
   "id": "1c831221",
   "metadata": {},
   "outputs": [],
   "source": [
    "for col in t0_1.columns:\n",
    "    percentiles = t0_1[col].quantile([0.01, 0.99]).values\n",
    "    t0_1[col] = np.clip(t0_1[col], percentiles[0], percentiles[1])"
   ]
  },
  {
   "cell_type": "code",
   "execution_count": 58,
   "id": "3b47de88",
   "metadata": {
    "scrolled": false
   },
   "outputs": [
    {
     "data": {
      "text/html": [
       "<div>\n",
       "<style scoped>\n",
       "    .dataframe tbody tr th:only-of-type {\n",
       "        vertical-align: middle;\n",
       "    }\n",
       "\n",
       "    .dataframe tbody tr th {\n",
       "        vertical-align: top;\n",
       "    }\n",
       "\n",
       "    .dataframe thead th {\n",
       "        text-align: right;\n",
       "    }\n",
       "</style>\n",
       "<table border=\"1\" class=\"dataframe\">\n",
       "  <thead>\n",
       "    <tr style=\"text-align: right;\">\n",
       "      <th></th>\n",
       "      <th>user_id</th>\n",
       "      <th>category_id</th>\n",
       "      <th>video_id</th>\n",
       "      <th>age</th>\n",
       "      <th>gender</th>\n",
       "      <th>followers</th>\n",
       "      <th>views</th>\n",
       "      <th>engagement_score</th>\n",
       "      <th>Profession_Others</th>\n",
       "      <th>Profession_Student</th>\n",
       "    </tr>\n",
       "  </thead>\n",
       "  <tbody>\n",
       "    <tr>\n",
       "      <th>0</th>\n",
       "      <td>19990.0</td>\n",
       "      <td>37.0</td>\n",
       "      <td>128.0</td>\n",
       "      <td>24.0</td>\n",
       "      <td>1</td>\n",
       "      <td>180</td>\n",
       "      <td>1000</td>\n",
       "      <td>4.33</td>\n",
       "      <td>0</td>\n",
       "      <td>1</td>\n",
       "    </tr>\n",
       "    <tr>\n",
       "      <th>1</th>\n",
       "      <td>5304.0</td>\n",
       "      <td>32.0</td>\n",
       "      <td>132.0</td>\n",
       "      <td>14.0</td>\n",
       "      <td>0</td>\n",
       "      <td>330</td>\n",
       "      <td>714</td>\n",
       "      <td>1.79</td>\n",
       "      <td>0</td>\n",
       "      <td>1</td>\n",
       "    </tr>\n",
       "    <tr>\n",
       "      <th>2</th>\n",
       "      <td>1840.0</td>\n",
       "      <td>12.0</td>\n",
       "      <td>24.0</td>\n",
       "      <td>19.0</td>\n",
       "      <td>1</td>\n",
       "      <td>180</td>\n",
       "      <td>138</td>\n",
       "      <td>4.35</td>\n",
       "      <td>0</td>\n",
       "      <td>1</td>\n",
       "    </tr>\n",
       "    <tr>\n",
       "      <th>3</th>\n",
       "      <td>12597.0</td>\n",
       "      <td>23.0</td>\n",
       "      <td>112.0</td>\n",
       "      <td>19.0</td>\n",
       "      <td>1</td>\n",
       "      <td>220</td>\n",
       "      <td>613</td>\n",
       "      <td>3.77</td>\n",
       "      <td>0</td>\n",
       "      <td>1</td>\n",
       "    </tr>\n",
       "    <tr>\n",
       "      <th>4</th>\n",
       "      <td>13626.0</td>\n",
       "      <td>23.0</td>\n",
       "      <td>112.0</td>\n",
       "      <td>27.0</td>\n",
       "      <td>1</td>\n",
       "      <td>220</td>\n",
       "      <td>613</td>\n",
       "      <td>3.13</td>\n",
       "      <td>0</td>\n",
       "      <td>0</td>\n",
       "    </tr>\n",
       "  </tbody>\n",
       "</table>\n",
       "</div>"
      ],
      "text/plain": [
       "   user_id  category_id  video_id   age  gender  followers  views  \\\n",
       "0  19990.0         37.0     128.0  24.0       1        180   1000   \n",
       "1   5304.0         32.0     132.0  14.0       0        330    714   \n",
       "2   1840.0         12.0      24.0  19.0       1        180    138   \n",
       "3  12597.0         23.0     112.0  19.0       1        220    613   \n",
       "4  13626.0         23.0     112.0  27.0       1        220    613   \n",
       "\n",
       "   engagement_score  Profession_Others  Profession_Student  \n",
       "0              4.33                  0                   1  \n",
       "1              1.79                  0                   1  \n",
       "2              4.35                  0                   1  \n",
       "3              3.77                  0                   1  \n",
       "4              3.13                  0                   0  "
      ]
     },
     "execution_count": 58,
     "metadata": {},
     "output_type": "execute_result"
    }
   ],
   "source": [
    "t0_1['views'] = t0_1['views'].astype('int')\n",
    "\n",
    "t0_1.head()"
   ]
  },
  {
   "cell_type": "markdown",
   "id": "3c72b910",
   "metadata": {},
   "source": [
    "# **** t1\n",
    "\n",
    "\n",
    "* __having dummies from `professional` feature__\n",
    "* __converting `gender` to lencode format__"
   ]
  },
  {
   "cell_type": "code",
   "execution_count": null,
   "id": "07cef019",
   "metadata": {},
   "outputs": [],
   "source": []
  },
  {
   "cell_type": "markdown",
   "id": "95f464df",
   "metadata": {},
   "source": [
    "I have taken below steps to create features by feature engineering:\n",
    "\n",
    "1:\n",
    "    * Filtering the data to interquantile range.\n",
    "    * creating dummies from `professional` feature\n",
    "    * converting `gender` to lencode format\n",
    "\n",
    "2:\n",
    "    * having dummies from `professional` feature\n",
    "    * converting `gender` to lencode format\n",
    "\n",
    "3:\n",
    "    * merging `gender` and `profession` features and using mean encode\n",
    "\n",
    "4:\n",
    "    * merging `gender` and `profession` features and getting their dummies as feature\n",
    "    \n",
    "    \n",
    "5:\n",
    "    * gettting dummies of `category_id` and `video_id`\n",
    "    * using mean encode on `user_id`\n",
    "    "
   ]
  },
  {
   "cell_type": "markdown",
   "id": "7e8b1452",
   "metadata": {},
   "source": [
    "# Model Starts"
   ]
  },
  {
   "cell_type": "code",
   "execution_count": 95,
   "id": "70671cc9",
   "metadata": {},
   "outputs": [
    {
     "data": {
      "text/plain": [
       "((69096, 9), (17274, 9), (69096,), (17274,))"
      ]
     },
     "execution_count": 95,
     "metadata": {},
     "output_type": "execute_result"
    }
   ],
   "source": [
    "t = t0\n",
    "    \n",
    "X= t.drop(columns = ['engagement_score'], axis=1)\n",
    "y= t['engagement_score']\n",
    "\n",
    "X_train,X_valid,y_train,y_valid = train_test_split(X,y,test_size=0.2,random_state=21)\n",
    "X_train.shape,X_valid.shape,y_train.shape,y_valid.shape"
   ]
  },
  {
   "cell_type": "code",
   "execution_count": 96,
   "id": "23c48a14",
   "metadata": {
    "scrolled": true
   },
   "outputs": [
    {
     "name": "stdout",
     "output_type": "stream",
     "text": [
      "LinearRegression(): Training=0.2706,  Testing=0.2768\n",
      "RandomForestRegressor(): Training=0.9112,  Testing=0.3799\n",
      "XGBRegressor(base_score=0.5, booster='gbtree', colsample_bylevel=1,\n",
      "             colsample_bynode=1, colsample_bytree=1, enable_categorical=False,\n",
      "             gamma=0, gpu_id=-1, importance_type=None,\n",
      "             interaction_constraints='', learning_rate=0.300000012,\n",
      "             max_delta_step=0, max_depth=6, min_child_weight=1, missing=nan,\n",
      "             monotone_constraints='()', n_estimators=100, n_jobs=4,\n",
      "             num_parallel_tree=1, predictor='auto', random_state=0, reg_alpha=0,\n",
      "             reg_lambda=1, scale_pos_weight=1, subsample=1, tree_method='exact',\n",
      "             validate_parameters=1, verbosity=None): Training=0.4557,  Testing=0.3749\n"
     ]
    }
   ],
   "source": [
    "lr = LinearRegression()\n",
    "rf = RandomForestRegressor()\n",
    "xg = XGBRegressor()\n",
    "\n",
    "algos = [lr, rf, xg]\n",
    "\n",
    "names = ['Linear Regression', 'Random Forest Regressor', 'XGBRegressor']\n",
    "\n",
    "rmse_list = []\n",
    "\n",
    "for name in algos:\n",
    "    model = name\n",
    "    model.fit(X_train,y_train)\n",
    "    yt_pred = model.predict(X_train)\n",
    "    y_pred = model.predict(X_valid)\n",
    "    rt2= metrics.r2_score(y_train,yt_pred)\n",
    "    r2= metrics.r2_score(y_valid,y_pred)\n",
    "\n",
    "    print(f'{model}: Training={round(rt2, 4)},  Testing={round(r2, 4)}')"
   ]
  },
  {
   "cell_type": "code",
   "execution_count": 77,
   "id": "af1c8bef",
   "metadata": {},
   "outputs": [
    {
     "data": {
      "text/plain": [
       "XGBRegressor(base_score=0.5, booster='gbtree', colsample_bylevel=1,\n",
       "             colsample_bynode=1, colsample_bytree=1, enable_categorical=False,\n",
       "             gamma=0, gpu_id=-1, importance_type=None,\n",
       "             interaction_constraints='', learning_rate=0.05, max_delta_step=0,\n",
       "             max_depth=6, min_child_weight=1, missing=nan,\n",
       "             monotone_constraints='()', n_estimators=6000, n_jobs=4,\n",
       "             num_parallel_tree=1, predictor='auto', random_state=0, reg_alpha=0,\n",
       "             reg_lambda=1, scale_pos_weight=1, subsample=1, tree_method='exact',\n",
       "             validate_parameters=1, verbosity=None)"
      ]
     },
     "execution_count": 77,
     "metadata": {},
     "output_type": "execute_result"
    }
   ],
   "source": [
    "xgb_final = XGBRegressor(n_estimators = 6000, learning_rate = 0.05)\n",
    "xgb_final.fit(X,y)"
   ]
  },
  {
   "cell_type": "code",
   "execution_count": 81,
   "id": "44482d8b",
   "metadata": {},
   "outputs": [
    {
     "name": "stdout",
     "output_type": "stream",
     "text": [
      "XGBoostRegressor: Training=0.7168\n"
     ]
    }
   ],
   "source": [
    "yt_pred = xgb_final.predict(X)\n",
    "# y_pred = xgb_final.predict(X_valid)\n",
    "rt2= metrics.r2_score(y,yt_pred)\n",
    "# r2= metrics.r2_score(y_valid,y_pred)\n",
    "\n",
    "print(f'XGBoostRegressor: Training={round(rt2, 4)}')"
   ]
  },
  {
   "cell_type": "markdown",
   "id": "c04d3c95",
   "metadata": {},
   "source": [
    "# Taking same steps for test data as t1"
   ]
  },
  {
   "cell_type": "code",
   "execution_count": 82,
   "id": "87f558f4",
   "metadata": {},
   "outputs": [
    {
     "data": {
      "text/html": [
       "<div>\n",
       "<style scoped>\n",
       "    .dataframe tbody tr th:only-of-type {\n",
       "        vertical-align: middle;\n",
       "    }\n",
       "\n",
       "    .dataframe tbody tr th {\n",
       "        vertical-align: top;\n",
       "    }\n",
       "\n",
       "    .dataframe thead th {\n",
       "        text-align: right;\n",
       "    }\n",
       "</style>\n",
       "<table border=\"1\" class=\"dataframe\">\n",
       "  <thead>\n",
       "    <tr style=\"text-align: right;\">\n",
       "      <th></th>\n",
       "      <th>user_id</th>\n",
       "      <th>category_id</th>\n",
       "      <th>video_id</th>\n",
       "      <th>age</th>\n",
       "      <th>gender</th>\n",
       "      <th>profession</th>\n",
       "      <th>followers</th>\n",
       "      <th>views</th>\n",
       "    </tr>\n",
       "  </thead>\n",
       "  <tbody>\n",
       "    <tr>\n",
       "      <th>0</th>\n",
       "      <td>7986</td>\n",
       "      <td>12</td>\n",
       "      <td>42</td>\n",
       "      <td>14</td>\n",
       "      <td>Male</td>\n",
       "      <td>Student</td>\n",
       "      <td>180</td>\n",
       "      <td>138</td>\n",
       "    </tr>\n",
       "    <tr>\n",
       "      <th>1</th>\n",
       "      <td>11278</td>\n",
       "      <td>34</td>\n",
       "      <td>115</td>\n",
       "      <td>14</td>\n",
       "      <td>Male</td>\n",
       "      <td>Student</td>\n",
       "      <td>230</td>\n",
       "      <td>840</td>\n",
       "    </tr>\n",
       "    <tr>\n",
       "      <th>2</th>\n",
       "      <td>17245</td>\n",
       "      <td>8</td>\n",
       "      <td>110</td>\n",
       "      <td>44</td>\n",
       "      <td>Female</td>\n",
       "      <td>Working Professional</td>\n",
       "      <td>280</td>\n",
       "      <td>628</td>\n",
       "    </tr>\n",
       "    <tr>\n",
       "      <th>3</th>\n",
       "      <td>9851</td>\n",
       "      <td>16</td>\n",
       "      <td>137</td>\n",
       "      <td>18</td>\n",
       "      <td>Male</td>\n",
       "      <td>Student</td>\n",
       "      <td>270</td>\n",
       "      <td>462</td>\n",
       "    </tr>\n",
       "    <tr>\n",
       "      <th>4</th>\n",
       "      <td>16008</td>\n",
       "      <td>34</td>\n",
       "      <td>96</td>\n",
       "      <td>47</td>\n",
       "      <td>Female</td>\n",
       "      <td>Other</td>\n",
       "      <td>230</td>\n",
       "      <td>840</td>\n",
       "    </tr>\n",
       "  </tbody>\n",
       "</table>\n",
       "</div>"
      ],
      "text/plain": [
       "   user_id  category_id  video_id  age  gender            profession  \\\n",
       "0     7986           12        42   14    Male               Student   \n",
       "1    11278           34       115   14    Male               Student   \n",
       "2    17245            8       110   44  Female  Working Professional   \n",
       "3     9851           16       137   18    Male               Student   \n",
       "4    16008           34        96   47  Female                 Other   \n",
       "\n",
       "   followers  views  \n",
       "0        180    138  \n",
       "1        230    840  \n",
       "2        280    628  \n",
       "3        270    462  \n",
       "4        230    840  "
      ]
     },
     "execution_count": 82,
     "metadata": {},
     "output_type": "execute_result"
    }
   ],
   "source": [
    "test.head()"
   ]
  },
  {
   "cell_type": "code",
   "execution_count": 83,
   "id": "5aae5a0e",
   "metadata": {},
   "outputs": [
    {
     "data": {
      "text/plain": [
       "(1    5572\n",
       " 0    5549\n",
       " Name: Profession_Student, dtype: int64,\n",
       " 0    7755\n",
       " 1    3366\n",
       " Name: Profession_Others, dtype: int64)"
      ]
     },
     "execution_count": 83,
     "metadata": {},
     "output_type": "execute_result"
    }
   ],
   "source": [
    "prof_encod_t = pd.get_dummies(test['profession'])\n",
    "prof_encod_t.drop('Working Professional', axis = 1, inplace= True)\n",
    "prof_encod_t.rename(columns = {'Student':'Profession_Student', 'Other':'Profession_Others'}, inplace=True)\n",
    "prof_encod_t['Profession_Student'].value_counts(), prof_encod_t['Profession_Others'].value_counts() "
   ]
  },
  {
   "cell_type": "code",
   "execution_count": 84,
   "id": "c605a4df",
   "metadata": {},
   "outputs": [],
   "source": [
    "final_test = pd.concat([test, prof_encod_t], axis = 1)"
   ]
  },
  {
   "cell_type": "code",
   "execution_count": 85,
   "id": "4dc5c238",
   "metadata": {},
   "outputs": [],
   "source": [
    "final_test.drop('profession', axis = 1, inplace = True)"
   ]
  },
  {
   "cell_type": "code",
   "execution_count": 86,
   "id": "6dce8f41",
   "metadata": {},
   "outputs": [],
   "source": [
    "final_test['gender'] = final_test['gender'].map({'Male':1, 'Female': 0})"
   ]
  },
  {
   "cell_type": "code",
   "execution_count": 87,
   "id": "dfe7398d",
   "metadata": {},
   "outputs": [
    {
     "data": {
      "text/html": [
       "<div>\n",
       "<style scoped>\n",
       "    .dataframe tbody tr th:only-of-type {\n",
       "        vertical-align: middle;\n",
       "    }\n",
       "\n",
       "    .dataframe tbody tr th {\n",
       "        vertical-align: top;\n",
       "    }\n",
       "\n",
       "    .dataframe thead th {\n",
       "        text-align: right;\n",
       "    }\n",
       "</style>\n",
       "<table border=\"1\" class=\"dataframe\">\n",
       "  <thead>\n",
       "    <tr style=\"text-align: right;\">\n",
       "      <th></th>\n",
       "      <th>user_id</th>\n",
       "      <th>category_id</th>\n",
       "      <th>video_id</th>\n",
       "      <th>age</th>\n",
       "      <th>gender</th>\n",
       "      <th>followers</th>\n",
       "      <th>views</th>\n",
       "      <th>engagement_score</th>\n",
       "      <th>Profession_Others</th>\n",
       "      <th>Profession_Student</th>\n",
       "    </tr>\n",
       "  </thead>\n",
       "  <tbody>\n",
       "    <tr>\n",
       "      <th>0</th>\n",
       "      <td>19990.0</td>\n",
       "      <td>37.0</td>\n",
       "      <td>128.0</td>\n",
       "      <td>24.0</td>\n",
       "      <td>1</td>\n",
       "      <td>180</td>\n",
       "      <td>1000</td>\n",
       "      <td>4.33</td>\n",
       "      <td>0</td>\n",
       "      <td>1</td>\n",
       "    </tr>\n",
       "    <tr>\n",
       "      <th>1</th>\n",
       "      <td>5304.0</td>\n",
       "      <td>32.0</td>\n",
       "      <td>132.0</td>\n",
       "      <td>14.0</td>\n",
       "      <td>0</td>\n",
       "      <td>330</td>\n",
       "      <td>714</td>\n",
       "      <td>1.79</td>\n",
       "      <td>0</td>\n",
       "      <td>1</td>\n",
       "    </tr>\n",
       "    <tr>\n",
       "      <th>2</th>\n",
       "      <td>1840.0</td>\n",
       "      <td>12.0</td>\n",
       "      <td>24.0</td>\n",
       "      <td>19.0</td>\n",
       "      <td>1</td>\n",
       "      <td>180</td>\n",
       "      <td>138</td>\n",
       "      <td>4.35</td>\n",
       "      <td>0</td>\n",
       "      <td>1</td>\n",
       "    </tr>\n",
       "    <tr>\n",
       "      <th>3</th>\n",
       "      <td>12597.0</td>\n",
       "      <td>23.0</td>\n",
       "      <td>112.0</td>\n",
       "      <td>19.0</td>\n",
       "      <td>1</td>\n",
       "      <td>220</td>\n",
       "      <td>613</td>\n",
       "      <td>3.77</td>\n",
       "      <td>0</td>\n",
       "      <td>1</td>\n",
       "    </tr>\n",
       "    <tr>\n",
       "      <th>4</th>\n",
       "      <td>13626.0</td>\n",
       "      <td>23.0</td>\n",
       "      <td>112.0</td>\n",
       "      <td>27.0</td>\n",
       "      <td>1</td>\n",
       "      <td>220</td>\n",
       "      <td>613</td>\n",
       "      <td>3.13</td>\n",
       "      <td>0</td>\n",
       "      <td>0</td>\n",
       "    </tr>\n",
       "  </tbody>\n",
       "</table>\n",
       "</div>"
      ],
      "text/plain": [
       "   user_id  category_id  video_id   age  gender  followers  views  \\\n",
       "0  19990.0         37.0     128.0  24.0       1        180   1000   \n",
       "1   5304.0         32.0     132.0  14.0       0        330    714   \n",
       "2   1840.0         12.0      24.0  19.0       1        180    138   \n",
       "3  12597.0         23.0     112.0  19.0       1        220    613   \n",
       "4  13626.0         23.0     112.0  27.0       1        220    613   \n",
       "\n",
       "   engagement_score  Profession_Others  Profession_Student  \n",
       "0              4.33                  0                   1  \n",
       "1              1.79                  0                   1  \n",
       "2              4.35                  0                   1  \n",
       "3              3.77                  0                   1  \n",
       "4              3.13                  0                   0  "
      ]
     },
     "execution_count": 87,
     "metadata": {},
     "output_type": "execute_result"
    }
   ],
   "source": [
    "t0_1.head()"
   ]
  },
  {
   "cell_type": "code",
   "execution_count": 88,
   "id": "9ae39d21",
   "metadata": {},
   "outputs": [
    {
     "data": {
      "text/html": [
       "<div>\n",
       "<style scoped>\n",
       "    .dataframe tbody tr th:only-of-type {\n",
       "        vertical-align: middle;\n",
       "    }\n",
       "\n",
       "    .dataframe tbody tr th {\n",
       "        vertical-align: top;\n",
       "    }\n",
       "\n",
       "    .dataframe thead th {\n",
       "        text-align: right;\n",
       "    }\n",
       "</style>\n",
       "<table border=\"1\" class=\"dataframe\">\n",
       "  <thead>\n",
       "    <tr style=\"text-align: right;\">\n",
       "      <th></th>\n",
       "      <th>user_id</th>\n",
       "      <th>category_id</th>\n",
       "      <th>video_id</th>\n",
       "      <th>age</th>\n",
       "      <th>gender</th>\n",
       "      <th>followers</th>\n",
       "      <th>views</th>\n",
       "      <th>Profession_Others</th>\n",
       "      <th>Profession_Student</th>\n",
       "    </tr>\n",
       "  </thead>\n",
       "  <tbody>\n",
       "    <tr>\n",
       "      <th>0</th>\n",
       "      <td>7986</td>\n",
       "      <td>12</td>\n",
       "      <td>42</td>\n",
       "      <td>14</td>\n",
       "      <td>1</td>\n",
       "      <td>180</td>\n",
       "      <td>138</td>\n",
       "      <td>0</td>\n",
       "      <td>1</td>\n",
       "    </tr>\n",
       "    <tr>\n",
       "      <th>1</th>\n",
       "      <td>11278</td>\n",
       "      <td>34</td>\n",
       "      <td>115</td>\n",
       "      <td>14</td>\n",
       "      <td>1</td>\n",
       "      <td>230</td>\n",
       "      <td>840</td>\n",
       "      <td>0</td>\n",
       "      <td>1</td>\n",
       "    </tr>\n",
       "    <tr>\n",
       "      <th>2</th>\n",
       "      <td>17245</td>\n",
       "      <td>8</td>\n",
       "      <td>110</td>\n",
       "      <td>44</td>\n",
       "      <td>0</td>\n",
       "      <td>280</td>\n",
       "      <td>628</td>\n",
       "      <td>0</td>\n",
       "      <td>0</td>\n",
       "    </tr>\n",
       "    <tr>\n",
       "      <th>3</th>\n",
       "      <td>9851</td>\n",
       "      <td>16</td>\n",
       "      <td>137</td>\n",
       "      <td>18</td>\n",
       "      <td>1</td>\n",
       "      <td>270</td>\n",
       "      <td>462</td>\n",
       "      <td>0</td>\n",
       "      <td>1</td>\n",
       "    </tr>\n",
       "    <tr>\n",
       "      <th>4</th>\n",
       "      <td>16008</td>\n",
       "      <td>34</td>\n",
       "      <td>96</td>\n",
       "      <td>47</td>\n",
       "      <td>0</td>\n",
       "      <td>230</td>\n",
       "      <td>840</td>\n",
       "      <td>1</td>\n",
       "      <td>0</td>\n",
       "    </tr>\n",
       "  </tbody>\n",
       "</table>\n",
       "</div>"
      ],
      "text/plain": [
       "   user_id  category_id  video_id  age  gender  followers  views  \\\n",
       "0     7986           12        42   14       1        180    138   \n",
       "1    11278           34       115   14       1        230    840   \n",
       "2    17245            8       110   44       0        280    628   \n",
       "3     9851           16       137   18       1        270    462   \n",
       "4    16008           34        96   47       0        230    840   \n",
       "\n",
       "   Profession_Others  Profession_Student  \n",
       "0                  0                   1  \n",
       "1                  0                   1  \n",
       "2                  0                   0  \n",
       "3                  0                   1  \n",
       "4                  1                   0  "
      ]
     },
     "execution_count": 88,
     "metadata": {},
     "output_type": "execute_result"
    }
   ],
   "source": [
    "final_test.head()"
   ]
  },
  {
   "cell_type": "code",
   "execution_count": 90,
   "id": "197c813d",
   "metadata": {},
   "outputs": [],
   "source": [
    "xg_final = pd.DataFrame()\n",
    "xg_final['row_id'] = org_test['row_id']\n",
    "xg_final['engagement_score'] = xgb_final.predict(final_test)\n",
    "# xg_final['engagement_score'] = xg_final['engagement_score'].apply(lambda x: round(x, 2))\n",
    "\n",
    "xg_final[['row_id', 'engagement_score']].to_csv('ScorePredSub.csv', index=False)"
   ]
  },
  {
   "cell_type": "code",
   "execution_count": null,
   "id": "5f7f7740",
   "metadata": {},
   "outputs": [],
   "source": []
  }
 ],
 "metadata": {
  "kernelspec": {
   "display_name": "Python 3 (ipykernel)",
   "language": "python",
   "name": "python3"
  },
  "language_info": {
   "codemirror_mode": {
    "name": "ipython",
    "version": 3
   },
   "file_extension": ".py",
   "mimetype": "text/x-python",
   "name": "python",
   "nbconvert_exporter": "python",
   "pygments_lexer": "ipython3",
   "version": "3.9.7"
  }
 },
 "nbformat": 4,
 "nbformat_minor": 5
}
